{
 "cells": [
  {
   "cell_type": "code",
   "execution_count": 1,
   "metadata": {},
   "outputs": [],
   "source": [
    "import pandas as pd\n",
    "import numpy as np\n",
    "import matplotlib.pyplot as plt\n",
    "import os , shutil\n",
    "import cv2\n",
    "import matplotlib.image as mpimg\n",
    "import seaborn as sns\n",
    "%matplotlib inline\n",
    "plt.style.use('ggplot')"
   ]
  },
  {
   "cell_type": "code",
   "execution_count": 2,
   "metadata": {},
   "outputs": [],
   "source": [
    "# dataset\n",
    "import zipfile\n",
    "\n",
    "z=zipfile.ZipFile('archive.zip')\n",
    "\n",
    "z.extractall()"
   ]
  },
  {
   "cell_type": "code",
   "execution_count": null,
   "metadata": {},
   "outputs": [],
   "source": [
    "folder = 'brain_tumor_dataset/yes/'\n",
    "count = 1\n",
    "\n",
    "for filename in os.listdir(folder):\n",
    "    source = folder + filename\n",
    "    destination = folder + \"Y_\"+str(count)+\".jpg\"\n",
    "    os.rename(source,destination)\n",
    "    count+=1\n",
    "print(\"All files are remaned in this yes dir.\")"
   ]
  },
  {
   "cell_type": "code",
   "execution_count": null,
   "metadata": {},
   "outputs": [],
   "source": [
    "folder = 'brain_tumor_dataset/no/'\n",
    "count = 1\n",
    "\n",
    "for filename in os.listdir(folder):\n",
    "    source = folder + filename\n",
    "    destination = folder + \"N_\"+str(count)+\".jpg\"\n",
    "    os.rename(source,destination)\n",
    "    count+=1\n",
    "print(\"All files are remaned in this yes dir.\")"
   ]
  },
  {
   "cell_type": "code",
   "execution_count": 5,
   "metadata": {},
   "outputs": [],
   "source": [
    "#EDA(Exploratory Data Analysis)"
   ]
  },
  {
   "cell_type": "code",
   "execution_count": null,
   "metadata": {},
   "outputs": [],
   "source": [
    "listyes=os.listdir(\"brain_tumor_dataset/yes/\")\n",
    "number_files_yes=len(listyes)\n",
    "print(number_files_yes)\n",
    "\n",
    "\n",
    "listno=os.listdir(\"brain_tumor_dataset/no/\")\n",
    "number_files_no=len(listno)\n",
    "print(number_files_no)\n"
   ]
  },
  {
   "cell_type": "code",
   "execution_count": null,
   "metadata": {},
   "outputs": [],
   "source": [
    "data = {'tumorous': number_files_yes, 'non-tumorous': number_files_no}\n",
    "\n",
    "typex = data.keys()\n",
    "values = data.values()\n",
    "\n",
    "fig = plt.figure(figsize=(5,7))\n",
    "\n",
    "plt.bar(typex, values, color=\"red\")\n",
    "\n",
    "plt.xlabel(\"Data\")\n",
    "plt.ylabel(\"No of Brain Tumor Images\")\n",
    "plt.title(\"Count of Brain Tumor Images\")\n",
    "plt.show()"
   ]
  },
  {
   "cell_type": "code",
   "execution_count": 8,
   "metadata": {},
   "outputs": [],
   "source": [
    "# Data Augmentation\n",
    "# 155(61%), 98(39%)\n",
    "# imbalance"
   ]
  },
  {
   "cell_type": "code",
   "execution_count": 9,
   "metadata": {},
   "outputs": [],
   "source": [
    "import tensorflow as tf\n",
    "from tensorflow.keras.preprocessing.image import ImageDataGenerator\n",
    "from tensorflow.keras.models import Model\n",
    "from tensorflow.keras.layers import Flatten, Dense, Dropout\n",
    "from tensorflow.keras.applications.vgg19 import VGG19\n",
    "from tensorflow.keras.optimizers import SGD, Adam\n",
    "from tensorflow.keras.callbacks import ModelCheckpoint, EarlyStopping, ReduceLROnPlateau"
   ]
  },
  {
   "cell_type": "code",
   "execution_count": 10,
   "metadata": {},
   "outputs": [],
   "source": [
    "def timing(sec_elapsed):\n",
    "    h = int(sec_elapsed / (60*60))\n",
    "    m = int(sec_elapsed % (60*60) / 60)\n",
    "    s = sec_elapsed % 60\n",
    "    return f\"{h}:{m}:{s}\""
   ]
  },
  {
   "cell_type": "code",
   "execution_count": 11,
   "metadata": {},
   "outputs": [],
   "source": [
    "def augmented_data(file_dir, n_generated_samples, save_to_dir):\n",
    "    data_gen = ImageDataGenerator(rotation_range=10, \n",
    "                      width_shift_range=0.1,\n",
    "                      height_shift_range=0.1,\n",
    "                      shear_range=0.1,\n",
    "                      brightness_range=(0.3, 1.0),\n",
    "                      horizontal_flip=True,\n",
    "                      vertical_flip=True,\n",
    "                      fill_mode='nearest')\n",
    "    for filename in os.listdir(file_dir):\n",
    "        image = cv2.imread(file_dir + '/' + filename)\n",
    "        image = image.reshape((1,) + image.shape)\n",
    "        save_prefix = 'aug_' + filename[:-4]\n",
    "        i=0\n",
    "        for batch in data_gen.flow(x = image, batch_size = 1, save_to_dir = save_to_dir, save_prefix = save_prefix, save_format = \"jpg\"):\n",
    "            i+=1\n",
    "            if i>n_generated_samples:\n",
    "                break"
   ]
  },
  {
   "cell_type": "code",
   "execution_count": null,
   "metadata": {},
   "outputs": [],
   "source": [
    "import time\n",
    "start_time = time.time()\n",
    "\n",
    "yes_path = 'brain_tumor_dataset/yes'\n",
    "no_path = 'brain_tumor_dataset/no'\n",
    "\n",
    "augmented_data_path = 'augmented_data/'\n",
    "\n",
    "augmented_data(file_dir = yes_path, n_generated_samples=6, save_to_dir=augmented_data_path+'yes')\n",
    "augmented_data(file_dir = no_path, n_generated_samples=9, save_to_dir=augmented_data_path+'no')\n",
    "\n",
    "end_time = time.time()\n",
    "execution_time = end_time - start_time\n",
    "print(timing(execution_time))"
   ]
  },
  {
   "cell_type": "code",
   "execution_count": 13,
   "metadata": {},
   "outputs": [],
   "source": [
    "def data_summary(main_path):\n",
    "    yes_path = \"augmented_data/yes/\" \n",
    "    no_path = \"augmented_data/no/\"\n",
    "    \n",
    "    n_pos = len(os.listdir(yes_path))\n",
    "    n_neg = len(os.listdir(no_path))\n",
    "    \n",
    "    n = (n_pos + n_neg)\n",
    "    \n",
    "    pos_per = (n_pos*100)/n\n",
    "    neg_per = (n_neg*100)/n\n",
    "    \n",
    "    print(f\"Number of sample: {n}\")\n",
    "    print(f\"{n_pos} Number of positive sample in percentage: {pos_per}%\")\n",
    "    print(f\"{n_neg} Number of negative sample in percentage: {neg_per}%\")"
   ]
  },
  {
   "cell_type": "code",
   "execution_count": null,
   "metadata": {},
   "outputs": [],
   "source": [
    "data_summary(augmented_data_path)"
   ]
  },
  {
   "cell_type": "code",
   "execution_count": null,
   "metadata": {},
   "outputs": [],
   "source": [
    "listyes = os.listdir(\"augmented_data/yes/\")\n",
    "number_files_yes = len(listyes)\n",
    "print(number_files_yes)\n",
    "\n",
    "listno = os.listdir(\"augmented_data/no/\")\n",
    "number_files_no = len(listno)\n",
    "print(number_files_no)"
   ]
  },
  {
   "cell_type": "code",
   "execution_count": null,
   "metadata": {},
   "outputs": [],
   "source": [
    "data = {'tumorous': number_files_yes, 'non-tumorous': number_files_no}\n",
    "\n",
    "typex = data.keys()\n",
    "values = data.values()\n",
    "\n",
    "fig = plt.figure(figsize=(5,7))\n",
    "\n",
    "plt.bar(typex, values, color=\"red\")\n",
    "\n",
    "plt.xlabel(\"Data\")\n",
    "plt.ylabel(\"No of Brain Tumor Images\")\n",
    "plt.title(\"Count of Brain Tumor Images\")\n",
    "plt.show()"
   ]
  },
  {
   "cell_type": "code",
   "execution_count": null,
   "metadata": {},
   "outputs": [],
   "source": [
    "# Data Preprocessing\n",
    "\n",
    "# Convert BGR TO GRAY\n",
    "# GaussianBlur\n",
    "# Threshold\n",
    "# Erode\n",
    "# Dilate\n",
    "# Find Contours"
   ]
  },
  {
   "cell_type": "code",
   "execution_count": 17,
   "metadata": {},
   "outputs": [],
   "source": [
    "import imutils\n",
    "def crop_brain_tumor(image, plot=False):\n",
    "    gray = cv2.cvtColor(image, cv2.COLOR_BGR2GRAY)\n",
    "    gray = cv2.GaussianBlur(gray, (5,5), 0)\n",
    "    \n",
    "    thres = cv2.threshold(gray, 45, 255, cv2.THRESH_BINARY)[1]\n",
    "    thres =cv2.erode(thres, None, iterations = 2)\n",
    "    thres = cv2.dilate(thres, None, iterations = 2)\n",
    "    \n",
    "    cnts = cv2.findContours(thres.copy(), cv2.RETR_EXTERNAL, cv2.CHAIN_APPROX_SIMPLE)\n",
    "    cnts = imutils.grab_contours(cnts)\n",
    "    c = max(cnts, key = cv2.contourArea)\n",
    "    \n",
    "    extLeft = tuple(c[c[:,:,0].argmin()][0])\n",
    "    extRight = tuple(c[c[:,:,0].argmax()][0])\n",
    "    extTop = tuple(c[c[:,:,1].argmin()][0])\n",
    "    extBot = tuple(c[c[:,:,1].argmax()][0])\n",
    "    \n",
    "    new_image = image[extTop[1]:extBot[1], extLeft[0]:extRight[0]] \n",
    "    \n",
    "    if plot:\n",
    "        plt.figure()\n",
    "        plt.subplot(1, 2, 1)\n",
    "        plt.imshow(image)\n",
    "        \n",
    "        plt.tick_params(axis='both', which='both', \n",
    "                        top=False, bottom=False, left=False, right=False,\n",
    "                        labelbottom=False, labeltop=False, labelleft=False, labelright=False)\n",
    "        \n",
    "        plt.title('Original Image')\n",
    "            \n",
    "        plt.subplot(1, 2, 2)\n",
    "        plt.imshow(new_image)\n",
    "\n",
    "        plt.tick_params(axis='both', which='both', \n",
    "                        top=False, bottom=False, left=False, right=False,\n",
    "                        labelbottom=False, labeltop=False, labelleft=False, labelright=False)\n",
    "\n",
    "        plt.title('Cropped Image')\n",
    "        plt.show()\n",
    "    return new_image"
   ]
  },
  {
   "cell_type": "code",
   "execution_count": null,
   "metadata": {},
   "outputs": [],
   "source": [
    "img = cv2.imread('augmented_data/yes/aug_Y_1_0_533.jpg')\n",
    "crop_brain_tumor(img, True)"
   ]
  },
  {
   "cell_type": "code",
   "execution_count": null,
   "metadata": {},
   "outputs": [],
   "source": [
    "img = cv2.imread('augmented_data/no/aug_N_1_0_3101.jpg')\n",
    "crop_brain_tumor(img, True)"
   ]
  },
  {
   "cell_type": "code",
   "execution_count": 21,
   "metadata": {},
   "outputs": [],
   "source": [
    "folder1 = 'augmented_data/no/'\n",
    "folder2 = 'augmented_data/yes/'\n",
    "\n",
    "for filename in os.listdir(folder1):\n",
    "    img = cv2.imread(folder1 + filename)\n",
    "    img = crop_brain_tumor(img, False)\n",
    "    cv2.imwrite(folder1 + filename, img)\n",
    "for filename in os.listdir(folder2):\n",
    "    img = cv2.imread(folder2 + filename)\n",
    "    img = crop_brain_tumor(img, False)\n",
    "    cv2.imwrite(folder2 + filename, img)"
   ]
  },
  {
   "cell_type": "code",
   "execution_count": null,
   "metadata": {},
   "outputs": [],
   "source": [
    "#image Loading"
   ]
  },
  {
   "cell_type": "code",
   "execution_count": 23,
   "metadata": {},
   "outputs": [],
   "source": [
    "from sklearn.utils import shuffle\n",
    "def load_data(dir_list, image_size):\n",
    "    X=[]\n",
    "    y=[]\n",
    "    \n",
    "    image_width, image_height=image_size\n",
    "    \n",
    "    for directory in dir_list:\n",
    "        for filename in os.listdir(directory):\n",
    "            image = cv2.imread(directory + '/' + filename)\n",
    "            image = crop_brain_tumor(image, plot=False)\n",
    "            image = cv2.resize(image, dsize=(image_width, image_height), interpolation = cv2.INTER_CUBIC)\n",
    "            image = image/255.00\n",
    "            X.append(image)\n",
    "            if directory[-3:] == \"yes\":\n",
    "                y.append(1)\n",
    "            else:\n",
    "                y.append(0)\n",
    "    X=np.array(X)\n",
    "    y=np.array(y)\n",
    "    \n",
    "    X,y = shuffle(X,y)\n",
    "    print(f\"Number of example is : {len(X)}\")\n",
    "    print(f\"X SHAPE is : {X.shape}\")\n",
    "    print(f\"y SHAPE is : {y.shape}\")\n",
    "    return X,y\n",
    "            "
   ]
  },
  {
   "cell_type": "code",
   "execution_count": null,
   "metadata": {},
   "outputs": [],
   "source": [
    "augmented_path = 'augmented_data/'\n",
    "augmeneted_yes = augmented_path + 'yes'\n",
    "augmeneted_no = augmented_path + 'no'\n",
    "\n",
    "IMAGE_WIDTH, IMAGE_HEIGHT = (240,240)\n",
    "\n",
    "X,y = load_data([augmeneted_yes, augmeneted_no], (IMAGE_WIDTH, IMAGE_HEIGHT))"
   ]
  },
  {
   "cell_type": "code",
   "execution_count": 25,
   "metadata": {},
   "outputs": [],
   "source": [
    "def plot_sample_images(X, y, n=50):\n",
    "\n",
    "    for label in [0,1]:\n",
    "        images = X[np.argwhere(y == label)]\n",
    "        n_images = images[:n]\n",
    "        \n",
    "        columns_n = 10\n",
    "        rows_n = int(n/ columns_n)\n",
    "\n",
    "        plt.figure(figsize=(20, 10))\n",
    "        \n",
    "        i = 1        \n",
    "        for image in n_images:\n",
    "            plt.subplot(rows_n, columns_n, i)\n",
    "            plt.imshow(image[0])\n",
    "            \n",
    "            plt.tick_params(axis='both', which='both', \n",
    "                            top=False, bottom=False, left=False, right=False,\n",
    "                            labelbottom=False, labeltop=False, labelleft=False,\n",
    "                            labelright=False)\n",
    "            \n",
    "            i += 1\n",
    "        \n",
    "        label_to_str = lambda label: \"Yes\" if label == 1 else \"No\"\n",
    "        plt.suptitle(f\"Brain Tumor: {label_to_str(label)}\")\n",
    "        plt.show()"
   ]
  },
  {
   "cell_type": "code",
   "execution_count": null,
   "metadata": {},
   "outputs": [],
   "source": [
    "plot_sample_images(X, y)"
   ]
  },
  {
   "cell_type": "code",
   "execution_count": null,
   "metadata": {},
   "outputs": [],
   "source": [
    "# Data Spliting\n",
    "# Train\n",
    "# Test\n",
    "# Validation"
   ]
  },
  {
   "cell_type": "code",
   "execution_count": 27,
   "metadata": {},
   "outputs": [],
   "source": [
    "if not os.path.isdir('tumorous_and_nontumorous'):\n",
    "    base_dir = 'tumorous_and_nontumorous'\n",
    "    os.mkdir(base_dir)"
   ]
  },
  {
   "cell_type": "code",
   "execution_count": 28,
   "metadata": {},
   "outputs": [],
   "source": [
    "if not os.path.isdir('tumorous_and_nontumorous/train'):\n",
    "    train_dir = os.path.join(base_dir , 'train')\n",
    "    os.mkdir(train_dir)\n",
    "if not os.path.isdir('tumorous_and_nontumorous/test'):\n",
    "    test_dir = os.path.join(base_dir , 'test')\n",
    "    os.mkdir(test_dir)\n",
    "if not os.path.isdir('tumorous_and_nontumorous/valid'):\n",
    "    valid_dir = os.path.join(base_dir , 'valid')\n",
    "    os.mkdir(valid_dir)"
   ]
  },
  {
   "cell_type": "code",
   "execution_count": 29,
   "metadata": {},
   "outputs": [],
   "source": [
    "if not os.path.isdir('tumorous_and_nontumorous/train/tumorous'):\n",
    "    infected_train_dir = os.path.join(train_dir, 'tumorous')\n",
    "    os.mkdir(infected_train_dir)\n",
    "if not os.path.isdir('tumorous_and_nontumorous/test/tumorous'):\n",
    "    infected_test_dir = os.path.join(test_dir, 'tumorous')\n",
    "    os.mkdir(infected_test_dir)\n",
    "if not os.path.isdir('tumorous_and_nontumorous/valid/tumorous'):\n",
    "    infected_valid_dir = os.path.join(valid_dir, 'tumorous')\n",
    "    os.mkdir(infected_valid_dir)"
   ]
  },
  {
   "cell_type": "code",
   "execution_count": 30,
   "metadata": {},
   "outputs": [],
   "source": [
    "if not os.path.isdir('tumorous_and_nontumorous/train/nontumorous'):\n",
    "    healthy_train_dir = os.path.join(train_dir, 'nontumorous')\n",
    "    os.mkdir(healthy_train_dir)\n",
    "if not os.path.isdir('tumorous_and_nontumorous/test/nontumorous'):\n",
    "    healthy_test_dir = os.path.join(test_dir, 'nontumorous')\n",
    "    os.mkdir(healthy_test_dir)\n",
    "if not os.path.isdir('tumorous_and_nontumorous/valid/nontumorous'):\n",
    "    healthy_valid_dir = os.path.join(valid_dir, 'nontumorous')\n",
    "    os.mkdir(healthy_valid_dir)"
   ]
  },
  {
   "cell_type": "code",
   "execution_count": 31,
   "metadata": {},
   "outputs": [],
   "source": [
    "original_dataset_tumorours = os.path.join('augmented_data','yes/')\n",
    "original_dataset_nontumorours = os.path.join('augmented_data','no/')"
   ]
  },
  {
   "cell_type": "code",
   "execution_count": 32,
   "metadata": {},
   "outputs": [],
   "source": [
    "files = os.listdir('augmented_data/yes/')\n",
    "fnames = []\n",
    "for i in range(0,759):\n",
    "    fnames.append(files[i])\n",
    "for fname in fnames:\n",
    "    src = os.path.join(original_dataset_tumorours, fname)\n",
    "    dst = os.path.join(infected_train_dir, fname)\n",
    "    shutil.copyfile(src, dst)"
   ]
  },
  {
   "cell_type": "code",
   "execution_count": 33,
   "metadata": {},
   "outputs": [],
   "source": [
    "files = os.listdir('augmented_data/yes/')\n",
    "fnames = []\n",
    "for i in range(759,922):\n",
    "    fnames.append(files[i])\n",
    "for fname in fnames:\n",
    "    src = os.path.join(original_dataset_tumorours, fname)\n",
    "    dst = os.path.join(infected_test_dir, fname)\n",
    "    shutil.copyfile(src, dst)"
   ]
  },
  {
   "cell_type": "code",
   "execution_count": 34,
   "metadata": {},
   "outputs": [],
   "source": [
    "files = os.listdir('augmented_data/yes/')\n",
    "fnames = []\n",
    "for i in range(922,1085):\n",
    "    fnames.append(files[i])\n",
    "for fname in fnames:\n",
    "    src = os.path.join(original_dataset_tumorours, fname)\n",
    "    dst = os.path.join(infected_valid_dir, fname)\n",
    "    shutil.copyfile(src, dst)"
   ]
  },
  {
   "cell_type": "code",
   "execution_count": null,
   "metadata": {},
   "outputs": [],
   "source": [
    "# 80% 10% 10%"
   ]
  },
  {
   "cell_type": "code",
   "execution_count": 35,
   "metadata": {},
   "outputs": [],
   "source": [
    "files = os.listdir('augmented_data/no/')\n",
    "fnames = []\n",
    "for i in range(0,686):\n",
    "    fnames.append(files[i])\n",
    "for fname in fnames:\n",
    "    src = os.path.join(original_dataset_nontumorours, fname)\n",
    "    dst = os.path.join(healthy_train_dir, fname)\n",
    "    shutil.copyfile(src, dst)\n",
    "\n",
    "\n",
    "files = os.listdir('augmented_data/no/')\n",
    "fnames = []\n",
    "for i in range(686,833):\n",
    "    fnames.append(files[i])\n",
    "for fname in fnames:\n",
    "    src = os.path.join(original_dataset_nontumorours, fname)\n",
    "    dst = os.path.join(healthy_test_dir, fname)\n",
    "    shutil.copyfile(src, dst)\n",
    "\n",
    "    \n",
    "files = os.listdir('augmented_data/no/')\n",
    "fnames = []\n",
    "for i in range(833,979):\n",
    "    fnames.append(files[i])\n",
    "for fname in fnames:\n",
    "    src = os.path.join(original_dataset_nontumorours, fname)\n",
    "    dst = os.path.join(healthy_valid_dir, fname)\n",
    "    shutil.copyfile(src, dst)"
   ]
  },
  {
   "cell_type": "code",
   "execution_count": 36,
   "metadata": {},
   "outputs": [],
   "source": [
    "# Model Building"
   ]
  },
  {
   "cell_type": "code",
   "execution_count": 37,
   "metadata": {},
   "outputs": [],
   "source": [
    "train_datagen = ImageDataGenerator(rescale = 1./255,\n",
    "                  horizontal_flip=0.4,\n",
    "                  vertical_flip=0.4,\n",
    "                  rotation_range=40,\n",
    "                  shear_range=0.2,\n",
    "                  width_shift_range=0.4,\n",
    "                  height_shift_range=0.4,\n",
    "                  fill_mode='nearest')\n",
    "test_data_gen = ImageDataGenerator(rescale=1.0/255)\n",
    "valid_data_gen = ImageDataGenerator(rescale=1.0/255)"
   ]
  },
  {
   "cell_type": "code",
   "execution_count": null,
   "metadata": {},
   "outputs": [],
   "source": [
    "train_generator = train_datagen.flow_from_directory('tumorous_and_nontumorous/train/', batch_size=32, target_size=(240,240), class_mode='categorical',shuffle=True, seed = 42, color_mode = 'rgb')"
   ]
  },
  {
   "cell_type": "code",
   "execution_count": null,
   "metadata": {},
   "outputs": [],
   "source": [
    "test_generator = train_datagen.flow_from_directory('tumorous_and_nontumorous/test/', batch_size=32, target_size=(240,240), class_mode='categorical',shuffle=True, seed = 42, color_mode = 'rgb')"
   ]
  },
  {
   "cell_type": "code",
   "execution_count": null,
   "metadata": {},
   "outputs": [],
   "source": [
    "valid_generator = train_datagen.flow_from_directory('tumorous_and_nontumorous/valid/', batch_size=32, target_size=(240,240), class_mode='categorical',shuffle=True, seed = 42, color_mode = 'rgb')"
   ]
  },
  {
   "cell_type": "code",
   "execution_count": 41,
   "metadata": {},
   "outputs": [],
   "source": [
    "class_labels = train_generator.class_indices\n",
    "class_name = {value: key for (key,value) in class_labels.items()}"
   ]
  },
  {
   "cell_type": "code",
   "execution_count": null,
   "metadata": {},
   "outputs": [],
   "source": [
    "class_name"
   ]
  },
  {
   "cell_type": "code",
   "execution_count": null,
   "metadata": {},
   "outputs": [],
   "source": [
    "base_model = VGG19(input_shape = (240,240,3), include_top=False, weights='imagenet')\n",
    "\n",
    "for layer in base_model.layers:\n",
    "    layer.trainable=False\n",
    "\n",
    "x=base_model.output\n",
    "flat = Flatten()(x)\n",
    "\n",
    "class_1 = Dense(4608, activation = 'relu')(flat)\n",
    "drop_out = Dropout(0.2)(class_1)\n",
    "class_2 = Dense(1152, activation = 'relu')(drop_out)\n",
    "output = Dense(2, activation = 'softmax')(class_2)\n",
    "\n",
    "model_01 = Model(base_model.input, output)\n",
    "model_01.summary()"
   ]
  },
  {
   "cell_type": "code",
   "execution_count": 44,
   "metadata": {},
   "outputs": [],
   "source": [
    "filepath = 'model.h5'\n",
    "es = EarlyStopping(monitor='val_loss', verbose = 1, mode='min',patience=4)\n",
    "cp = ModelCheckpoint(filepath, monitor='val_loss', verbose = 1, save_best_only=True, save_weights_only=False, mode='auto',save_freq='epoch')\n",
    "lrr = ReduceLROnPlateau(monitor='val_accuarcy', patience=3, verbose = 1, factor = 0.5, min_lr = 0.0001)"
   ]
  }
 ],
 "metadata": {
  "kernelspec": {
   "display_name": ".venv",
   "language": "python",
   "name": "python3"
  },
  "language_info": {
   "codemirror_mode": {
    "name": "ipython",
    "version": 3
   },
   "file_extension": ".py",
   "mimetype": "text/x-python",
   "name": "python",
   "nbconvert_exporter": "python",
   "pygments_lexer": "ipython3",
   "version": "3.12.7"
  }
 },
 "nbformat": 4,
 "nbformat_minor": 2
}
